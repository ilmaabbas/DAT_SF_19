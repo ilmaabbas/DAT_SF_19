{
 "cells": [
  {
   "cell_type": "code",
   "execution_count": null,
   "metadata": {
    "collapsed": true
   },
   "outputs": [],
   "source": [
    "#To Do List for project:\n",
    "#1. Find the data\n",
    "#2. Clean the data\n",
    "#3. Analyze the data\n",
    "    #a. categorize cusine types (American, Italian, French, Chinese, Korean, Indian etc)\n",
    "    #b. is there a correlation between cusines and neighborhoods\n",
    "    #c. which neighboorhood has the most coffee shops\n",
    "    #d. expensive restaurants by neighboorhood\n",
    "    #e. identify most popular (least popular) review type (restaurants, salons, dentists)\n",
    "    #f. how many new businesses are creating yelp pages (2014, 2015)"
   ]
  },
  {
   "cell_type": "code",
   "execution_count": 20,
   "metadata": {
    "collapsed": false
   },
   "outputs": [],
   "source": []
  },
  {
   "cell_type": "code",
   "execution_count": 24,
   "metadata": {
    "collapsed": false
   },
   "outputs": [
    {
     "name": "stdout",
     "output_type": "stream",
     "text": [
      "{'term': 'restaurant', 'radius_filter': '2000', 'limit': '10', 'll': '37.7,122.4'}\n"
     ]
    }
   ],
   "source": []
  },
  {
   "cell_type": "code",
   "execution_count": null,
   "metadata": {
    "collapsed": true
   },
   "outputs": [],
   "source": []
  }
 ],
 "metadata": {
  "kernelspec": {
   "display_name": "Python 2",
   "language": "python",
   "name": "python2"
  },
  "language_info": {
   "codemirror_mode": {
    "name": "ipython",
    "version": 2
   },
   "file_extension": ".py",
   "mimetype": "text/x-python",
   "name": "python",
   "nbconvert_exporter": "python",
   "pygments_lexer": "ipython2",
   "version": "2.7.11"
  }
 },
 "nbformat": 4,
 "nbformat_minor": 0
}
